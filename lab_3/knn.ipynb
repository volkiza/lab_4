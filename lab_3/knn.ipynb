{
 "cells": [
  {
   "cell_type": "code",
   "execution_count": 4,
   "metadata": {},
   "outputs": [],
   "source": [
    "class nonNegative(Exception):\n",
    "    \"\"\"Raised when the input value is a negative number\"\"\"\n",
    "    pass\n",
    "class nonText(Exception):\n",
    "    \"\"\"Raised when the input value is a string\"\"\"\n",
    "    pass\n",
    "\n",
    "import random\n",
    "import numpy as np\n",
    "import statcalc.stats.distance as ds\n",
    "import statcalc.stats.stats as st\n",
    "\n",
    "def knn(tr, te_row, n_neighbors):\n",
    "    try:\n",
    "        if n_neighbors <= 0:\n",
    "            raise(nonNegative)\n",
    "        if n_neighbors == str(n_neighbors):\n",
    "            raise(nonText)\n",
    "        distances = list()\n",
    "        for tr_row in tr:\n",
    "            d = ds.e_distance(te_row, tr_row)\n",
    "            distances.append((tr_row, d))\n",
    "        distances.sort(key=lambda tup: tup[1])\n",
    "        neighbors = list()\n",
    "        for i in range(n_neighbors):\n",
    "            neighbors.append(distances[i][0])\n",
    "        return st.s_mean(neighbors)\n",
    "    except nonNegative:\n",
    "        print (\"Error: n_neighbors should be greater than 0\")\n",
    "    except nonText:\n",
    "        print(\"Error: not supporting string, please type a number\")\n"
   ]
  },
  {
   "cell_type": "code",
   "execution_count": 5,
   "metadata": {},
   "outputs": [
    {
     "name": "stdout",
     "output_type": "stream",
     "text": [
      "36.0\n",
      "118.75\n",
      "212.25\n",
      "44.0\n",
      "149.5\n"
     ]
    }
   ],
   "source": [
    "np.random.seed(12345)\n",
    "dataset = np.random.choice(range(1,100),100)\n",
    "print(knn(dataset, dataset[5], 4))\n",
    "dataset1 = np.random.choice(range(1,200),200)\n",
    "print(knn(dataset1, dataset1[5], 4))\n",
    "dataset2 = np.random.choice(range(1,300),300)\n",
    "print(knn(dataset2, dataset2[5], 4))\n",
    "dataset3 = np.random.choice(range(1,400),400)\n",
    "print(knn(dataset3, dataset3[5], 4))\n",
    "dataset4 = np.random.choice(range(1,500),500)\n",
    "print(knn(dataset4, dataset4[5], 4))"
   ]
  },
  {
   "cell_type": "code",
   "execution_count": null,
   "metadata": {},
   "outputs": [],
   "source": []
  }
 ],
 "metadata": {
  "kernelspec": {
   "display_name": "Python 3",
   "language": "python",
   "name": "python3"
  },
  "language_info": {
   "codemirror_mode": {
    "name": "ipython",
    "version": 3
   },
   "file_extension": ".py",
   "mimetype": "text/x-python",
   "name": "python",
   "nbconvert_exporter": "python",
   "pygments_lexer": "ipython3",
   "version": "3.7.3"
  }
 },
 "nbformat": 4,
 "nbformat_minor": 2
}
