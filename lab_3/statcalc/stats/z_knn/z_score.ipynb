{
 "cells": [
  {
   "cell_type": "code",
   "execution_count": 1,
   "metadata": {},
   "outputs": [],
   "source": [
    "#z_score\n",
    "import numpy as np\n",
    "import sys\n",
    "sys.path.append(\"..\")\n",
    "import stats as st\n",
    "\n",
    "def p_obs(n,values):\n",
    "    population = np.random.randint(0,values, size = n)\n",
    "    return population\n",
    "\n",
    "def p_zscore(x,n,values):\n",
    "    z = (x - st.s_mean(p_obs(n,values))) / st.s_std(p_obs(n,values))\n",
    "    return z\n",
    "\n",
    "def p_se(n,values):\n",
    "    se = st.s_std(p_obs(n,values)) / (len(p_obs(n,values))**(1/2))\n",
    "    return se"
   ]
  },
  {
   "cell_type": "code",
   "execution_count": null,
   "metadata": {},
   "outputs": [],
   "source": []
  }
 ],
 "metadata": {
  "kernelspec": {
   "display_name": "Python 3",
   "language": "python",
   "name": "python3"
  },
  "language_info": {
   "codemirror_mode": {
    "name": "ipython",
    "version": 3
   },
   "file_extension": ".py",
   "mimetype": "text/x-python",
   "name": "python",
   "nbconvert_exporter": "python",
   "pygments_lexer": "ipython3",
   "version": "3.7.3"
  }
 },
 "nbformat": 4,
 "nbformat_minor": 2
}
