{
 "cells": [
  {
   "cell_type": "code",
   "execution_count": 1,
   "metadata": {},
   "outputs": [],
   "source": [
    "#z_score\n",
    "import numpy as np\n",
    "import sys\n",
    "sys.path.append(\"..\")\n",
    "import stats as st\n",
    "\n",
    "def p_obs(n,values):\n",
    "    population = np.random.randint(0,values, size = n)\n",
    "    return population\n",
    "\n",
    "def p_zscore(x,n,values):\n",
    "    z = (x - st.s_mean(p_obs(n,values))) / st.s_std(p_obs(n,values))\n",
    "    return z\n",
    "\n",
    "def p_se(n,values):\n",
    "    se = st.s_std(p_obs(n,values)) / (len(p_obs(n,values))**(1/2))\n",
    "    return se"
   ]
  },
  {
   "cell_type": "code",
   "execution_count": 2,
   "metadata": {},
   "outputs": [
    {
     "data": {
      "text/plain": [
       "array([123,  47, 107, 198,  59, 139, 130,   9,  37,  92, 148,   7,  59,\n",
       "        86, 137, 110, 177, 185, 139, 194, 175, 161,  47, 158, 186, 189,\n",
       "        90,  12, 129,   7,  59,  82,  93,  10,  40, 104,  94, 155,  64,\n",
       "       163,  56, 175,   2,  16, 118,  73,  86, 128,  93,  29,  38,  70,\n",
       "       133, 150,  23,  69,  28, 160,  91, 120,   6, 127,  72, 147,  42,\n",
       "        97, 151,  87,  61,  84, 132,  14,  36, 121,   0,  84,  67,  70,\n",
       "        11, 184,   4,  84, 177, 159, 177,   6, 199,  69, 104,  55, 124,\n",
       "       158, 160,  58,  48, 120,  58, 197, 135, 174])"
      ]
     },
     "execution_count": 2,
     "metadata": {},
     "output_type": "execute_result"
    }
   ],
   "source": [
    "p_obs(100, 200)"
   ]
  },
  {
   "cell_type": "code",
   "execution_count": 3,
   "metadata": {},
   "outputs": [
    {
     "data": {
      "text/plain": [
       "0.010387450002866484"
      ]
     },
     "execution_count": 3,
     "metadata": {},
     "output_type": "execute_result"
    }
   ],
   "source": [
    "p_zscore(98, 100, 200)"
   ]
  },
  {
   "cell_type": "code",
   "execution_count": 4,
   "metadata": {},
   "outputs": [
    {
     "data": {
      "text/plain": [
       "5.716780212672164"
      ]
     },
     "execution_count": 4,
     "metadata": {},
     "output_type": "execute_result"
    }
   ],
   "source": [
    "p_se(100, 200)"
   ]
  },
  {
   "cell_type": "code",
   "execution_count": null,
   "metadata": {},
   "outputs": [],
   "source": []
  }
 ],
 "metadata": {
  "kernelspec": {
   "display_name": "Python 3",
   "language": "python",
   "name": "python3"
  },
  "language_info": {
   "codemirror_mode": {
    "name": "ipython",
    "version": 3
   },
   "file_extension": ".py",
   "mimetype": "text/x-python",
   "name": "python",
   "nbconvert_exporter": "python",
   "pygments_lexer": "ipython3",
   "version": "3.7.3"
  }
 },
 "nbformat": 4,
 "nbformat_minor": 2
}
