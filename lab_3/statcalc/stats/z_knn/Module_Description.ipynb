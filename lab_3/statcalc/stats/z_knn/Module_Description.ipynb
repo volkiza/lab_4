{
 "cells": [
  {
   "cell_type": "markdown",
   "metadata": {},
   "source": [
    "# Subpackage: z_knn"
   ]
  },
  {
   "cell_type": "markdown",
   "metadata": {},
   "source": [
    "- The subpackage is inherited from stats package\n",
    "- It has two modules calculating z_score and k-nearest neighbours "
   ]
  },
  {
   "cell_type": "markdown",
   "metadata": {},
   "source": [
    "## Module 1. z_score"
   ]
  },
  {
   "cell_type": "markdown",
   "metadata": {},
   "source": [
    "### Functions:"
   ]
  },
  {
   "cell_type": "markdown",
   "metadata": {},
   "source": [
    "\"p_obs\": function that outputs random integers with parameters 'n' and 'values'. 'n' is the size of the population and 'values' is the limit of dataset that a user wants to get."
   ]
  },
  {
   "cell_type": "markdown",
   "metadata": {},
   "source": [
    "\"p_zscore\": function that caculates z-score of population which is the number of standard deviations away from a mean for a data point. A z-score helps point out how unusual or usual a data point is from the other values. For this function, I used functions such as \"s_mean\" and \"s_std\" that were inherited from stats package. A user should input three parameters of which include 'x', 'n', and 'values'. 'x' is the score, 'n' is the size of the population and 'values' is the limit of dataset."
   ]
  },
  {
   "cell_type": "markdown",
   "metadata": {},
   "source": [
    "\"p_se\": function that calculates standard error of poupulation. For this fucntion, I used functions such as \"s_std\" that was inherited from stats package. A user should input three parameters of which include 'n' and 'values'. 'n' is the size of the population and 'values' is the limit of dataset that a user wants to get."
   ]
  },
  {
   "cell_type": "markdown",
   "metadata": {},
   "source": [
    "## Module 2. knn"
   ]
  },
  {
   "cell_type": "markdown",
   "metadata": {},
   "source": [
    "### Functions:"
   ]
  },
  {
   "cell_type": "markdown",
   "metadata": {},
   "source": [
    "\"knn\": function that outputs the mean of the most similar neighbors. A user should input three parameters of which include 'tr', 'te_row', 'n_neighbors'. 'tr' is the train data. 'te_row' is the testing rows. 'n_neighbors' is the number of neighbours. The function was designed to follow these steps:"
   ]
  },
  {
   "cell_type": "markdown",
   "metadata": {},
   "source": [
    "#### Steps"
   ]
  },
  {
   "cell_type": "markdown",
   "metadata": {},
   "source": [
    "1. It is locating the neighbors by calculating the distance between each record in the dataset which was already loaded from the distance module from stats package\n",
    "2. With the calculated distances, the function sorts the records in the training\n",
    "3. It will keep tracking each records as tuple and sort the lists by the descending order\n",
    "4. Finally, it retursn the nearest neighbors and calculates the mean using s_mean function that was inherited from the stats packge"
   ]
  }
 ],
 "metadata": {
  "kernelspec": {
   "display_name": "Python 3",
   "language": "python",
   "name": "python3"
  },
  "language_info": {
   "codemirror_mode": {
    "name": "ipython",
    "version": 3
   },
   "file_extension": ".py",
   "mimetype": "text/x-python",
   "name": "python",
   "nbconvert_exporter": "python",
   "pygments_lexer": "ipython3",
   "version": "3.7.3"
  }
 },
 "nbformat": 4,
 "nbformat_minor": 2
}
