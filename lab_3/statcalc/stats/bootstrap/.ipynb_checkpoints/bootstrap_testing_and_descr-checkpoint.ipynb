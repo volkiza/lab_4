{
 "cells": [
  {
   "cell_type": "code",
   "execution_count": 1,
   "metadata": {},
   "outputs": [],
   "source": [
    "import matplotlib\n",
    "import numpy as np\n",
    "import matplotlib.pyplot as plt\n",
    "import sys\n",
    "sys.path.append(\"..\")\n",
    "\n",
    "import bootstrap as bt"
   ]
  },
  {
   "cell_type": "markdown",
   "metadata": {},
   "source": [
    "# Bootstrap subpackage:\n",
    "    \n",
    "* uses numpy, mathplotlib packages   \n",
    "* inherits statistical functions (mean, standard deviation, sample standard deviation) from stats subpackage\n",
    "* makes simulations sampling via bootstrap method\n",
    "* consists of two modules:\n",
    "### 1. bootstrap_func - the module with functions:\n",
    "    a) resample - function takes numpy array as input and returns an array with a sample of the size 1/3 of original array with replacement. The function is called in sample_distr function of the same module.\n",
    "        \n",
    "    b) stand_err - function takes numpy array as input and returns a float, rounded to 4 decimal points sample standard error of the array. Standard error is counted with calling sample_std function from subpackage stats divided by the length of array to the power of 0.5.\n",
    "        \n",
    "    c) sample_distr - function: \n",
    "    \n",
    "        * takes numpy array as an input  \n",
    "        * generates a new empty array sample_props \n",
    "        * via for loop 1000 times recamples the input array via resample function\n",
    "        * fills up the sample_props array with the mean of each sample\n",
    "        * returns sample_props array (with means of 1000 times recampled original array)\n",
    "            \n",
    "    d) plot - function that plots a mathplotlib histogram of the array\n",
    "    \n",
    "### 2. bootstrap - the module with class Bootstrap:\n",
    "The module calls functions both from stats subpackage and from bootstrap_func. \n",
    "    \n",
    "Bootstrap class consists of several functions:\n",
    "    \n",
    "    a) __init__ - the class takes a numpy array or list of values as input and in case of list of values transfers it to numpy array to reduce the time complexity\n",
    "    \n",
    "    b) print_nums - prints out the original array\n",
    "    \n",
    "    c) mean - returns a float, rounded to 4 decimal points mean of the array. Mean is counted via s_mean function from subpackage stats.\n",
    "    \n",
    "    d) sd - returns a float, rounded to 4 decimal points standard deviation of the array. Standard deviation is counted via s_std function from subpackage stats\n",
    "    \n",
    "    e) se - returns a float, rounded to 4 decimal points sample standard error of the array. Standard error is counted via sample_std function from boot_func module\n",
    "    \n",
    "    f) simulation - \n",
    "        * does simulations of the array via resample function from boot_func module \n",
    "        * creates the array of means of 1000 times recampled array via sample_distr function from boot_func module, prints out both theoretical mean of original array and the mean of the recampled array, theoretical standard error of original array and the standard error of recampled array.\n",
    "    "
   ]
  },
  {
   "cell_type": "code",
   "execution_count": 2,
   "metadata": {},
   "outputs": [
    {
     "name": "stdout",
     "output_type": "stream",
     "text": [
      "The original array is: [119 177 253 439 421 218 162  10 323 453 342  68  82 169 285  85 444 348\n",
      " 460  57 184 370 451  62  28  18 142  25  27 183   6 150 275  40 369  44\n",
      " 486 430 313 188   3 145 229  84 191  43 253 254 191 219 182 488 449 433\n",
      " 122  68 250 185 317 475 304 192 189 227 370 420  78  70 416 158 479 443\n",
      " 185 301 176 313 226 204  47 185  62 111 366 262 317 111   2 301 383 239\n",
      " 413 211  70 389  30 112 263 428 209 488 417   2 157 478 202 148 434 301\n",
      " 180 335 117  90 139 317   1 100 152 461 457 153 167 373   9 162 119 211\n",
      " 414 126 111  25 284 317 250 416 189 321 191 257 170 353 294 172 373 194\n",
      " 386 192 407 321 117 274  70 121  19 148 242 202  13 458 205  33 467 131\n",
      " 219 263 114 341 432 453 226 318 396 164 387 344 233 138 379 251 175 422\n",
      " 323 246  83 261 157 431  70  82  34 361 344 173 206 259 207   2 433 155\n",
      "  96 151 129 417 460 161 486 282 339 178  60  62 287 346 427 268  77 194\n",
      " 289 302 446 193   8 286 273 391 493 232 451 225 471 439 355 240 387 254\n",
      " 401 327   4 370 283 357 161  22 305 208  41 341  89 130 489 371]\n",
      "The mean of original array: 240.472\n",
      "The standard deviation of original array: 139.1978\n",
      "The standard error of original array: 8.8036\n",
      "Simulation results: \n",
      "Theoretical mean and simulated mean: 240.472,240.57289638554226\n",
      "Theoretical SE and simulated SE: 8.8213,15.217664924204676\n"
     ]
    },
    {
     "data": {
      "image/png": "[encoded data removed]",
      "text/plain": [
       "<Figure size 432x288 with 1 Axes>"
      ]
     },
     "metadata": {
      "needs_background": "light"
     },
     "output_type": "display_data"
    }
   ],
   "source": [
    "#Test of bootstrap module, using numpy array as input\n",
    "x=np.random.randint(0,500,250)\n",
    "test=bt.Bootstrap(x)\n",
    "#Call print_nums \n",
    "test.print_nums()\n",
    "#Call mean\n",
    "m=test.mean()\n",
    "print(\"The mean of original array: {}\".format(m))\n",
    "#Call sd\n",
    "s=test.sd()\n",
    "print(\"The standard deviation of original array: {}\".format(s))\n",
    "#Call se\n",
    "se=test.s_se()\n",
    "print(\"The standard error of original array: {}\".format(se))\n",
    "#Call simulation\n",
    "test.simulation()"
   ]
  },
  {
   "cell_type": "code",
   "execution_count": 6,
   "metadata": {},
   "outputs": [
    {
     "name": "stdout",
     "output_type": "stream",
     "text": [
      "Transfered the list to numpy array\n",
      "The original array is: [16, 48, 21, 55, 35, 99, 47, 98, 81, 13, 31, 67, 46, 60, 51, 30, 15, 13, 97, 55, 23, 32, 62, 28, 12, 7, 11, 86, 35, 2, 41, 4, 46, 76, 40, 67, 89, 27, 64, 3, 12, 2, 4, 43, 92, 94, 42, 26, 50, 75]\n",
      "The mean of original array: 43.46\n",
      "The standard deviation of original array: 27.9896\n",
      "The standard error of original array: 3.9583\n",
      "Simulation results: \n",
      "Theoretical mean and simulated mean: 43.46,43.41330625\n",
      "Theoretical SE and simulated SE: 4.1445,7.281045666014316\n"
     ]
    },
    {
     "data": {
      "image/png": "[encoded data removed]",
      "text/plain": [
       "<Figure size 432x288 with 1 Axes>"
      ]
     },
     "metadata": {
      "needs_background": "light"
     },
     "output_type": "display_data"
    }
   ],
   "source": [
    "#Test of bootstrap module, using list as input\n",
    "y=[16, 48, 21, 55, 35, 99, 47, 98, 81, 13, 31, 67, 46, 60, 51, 30, 15,\n",
    "       13, 97, 55, 23, 32, 62, 28, 12,  7, 11, 86, 35,  2, 41,  4, 46, 76,\n",
    "       40, 67, 89, 27, 64,  3, 12,  2,  4, 43, 92, 94, 42, 26, 50, 75]\n",
    "test1=bt.Bootstrap(y)\n",
    "#Call print_nums \n",
    "test1.print_nums()\n",
    "#Call mean\n",
    "m1=test1.mean()\n",
    "print(\"The mean of original array: {}\".format(m1))\n",
    "#Call sd\n",
    "s1=test.sd()\n",
    "print(\"The standard deviation of original array: {}\".format(s1))\n",
    "#Call se\n",
    "se1=test.s_se()\n",
    "print(\"The standard error of original array: {}\".format(se1))\n",
    "#Call simulation\n",
    "test1.simulation()"
   ]
  },
  {
   "cell_type": "code",
   "execution_count": null,
   "metadata": {},
   "outputs": [],
   "source": []
  },
  {
   "cell_type": "code",
   "execution_count": 5,
   "metadata": {},
   "outputs": [
    {
     "data": {
      "text/plain": [
       "array([16, 48, 21, 55, 35, 99, 47, 98, 81, 13, 31, 67, 46, 60, 51, 30, 15,\n",
       "       13, 97, 55, 23, 32, 62, 28, 12,  7, 11, 86, 35,  2, 41,  4, 46, 76,\n",
       "       40, 67, 89, 27, 64,  3, 12,  2,  4, 43, 92, 94, 42, 26, 50, 75])"
      ]
     },
     "execution_count": 5,
     "metadata": {},
     "output_type": "execute_result"
    }
   ],
   "source": [
    "np.random.randint(0,100,50)"
   ]
  },
  {
   "cell_type": "code",
   "execution_count": null,
   "metadata": {},
   "outputs": [],
   "source": []
  }
 ],
 "metadata": {
  "kernelspec": {
   "display_name": "Python 3",
   "language": "python",
   "name": "python3"
  },
  "language_info": {
   "codemirror_mode": {
    "name": "ipython",
    "version": 3
   },
   "file_extension": ".py",
   "mimetype": "text/x-python",
   "name": "python",
   "nbconvert_exporter": "python",
   "pygments_lexer": "ipython3",
   "version": "3.7.3"
  }
 },
 "nbformat": 4,
 "nbformat_minor": 2
}
