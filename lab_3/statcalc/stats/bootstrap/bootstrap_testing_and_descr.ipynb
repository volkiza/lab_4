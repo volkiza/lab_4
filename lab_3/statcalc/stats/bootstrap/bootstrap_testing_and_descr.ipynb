{
 "cells": [
  {
   "cell_type": "code",
   "execution_count": 4,
   "metadata": {},
   "outputs": [],
   "source": [
    "import matplotlib\n",
    "import numpy as np\n",
    "import matplotlib.pyplot as plt\n",
    "import sys\n",
    "sys.path.append(\"..\")\n",
    "\n",
    "import bootstrap as bt\n",
    "import boot_func as bf"
   ]
  },
  {
   "cell_type": "markdown",
   "metadata": {},
   "source": [
    "# Bootstrap subpackage:\n",
    "    \n",
    "* uses numpy, mathplotlib packages   \n",
    "* inherits statistical functions (mean, standard deviation, sample standard deviation) from stats subpackage\n",
    "* makes simulations sampling via bootstrap method\n",
    "* consists of two modules:\n",
    "### 1. bootstrap_func - the module with functions:\n",
    "    a) resample - function takes numpy array as input and returns an array with a sample of the size 1/3 of original array with replacement. The function is called in sample_distr function of the same module.\n",
    "        \n",
    "    b) sample_stand_err - function takes numpy array as input and returns a float, rounded to 4 decimal points sample standard error of the array. Sample standard error is counted with calling sample_std function from subpackage stats divided by the length of array to the power of 0.5.\n",
    "    \n",
    "    b) stand_err - function takes numpy array as input and returns a float, rounded to 4 decimal points standard error of the array. Standard error is counted with calling s_std function from subpackage stats divided by the length of array to the power of 0.5.\n",
    "        \n",
    "    c) sample_distr - function: \n",
    "        * takes numpy array as an input  \n",
    "        * generates a new empty array sample_props \n",
    "        * via for loop 1000 times recamples the input array via resample function\n",
    "        * fills up the sample_props array with the mean of each sample\n",
    "        * returns sample_props array (with means of 10000 times recampled original array)\n",
    "            \n",
    "    d) b_plot - function that plots a mathplotlib histogram of the array with xlabel \"Mean\" and title \"Simulated sampling distribution\"\n",
    "### 2. bootstrap - the module with class Bootstrap:\n",
    "    a) __init__ - the class takes a numpy array or list of values as input and in case of list of values transfers it to numpy array to reduce the time complexity\n",
    "    \n",
    "    b) print_nums - prints out the original array\n",
    "    \n",
    "    c) mean - returns a float, rounded to 4 decimal points mean of the array. Mean is counted via s_mean function from subpackage stats.\n",
    "    \n",
    "    d) sd - returns a float, rounded to 4 decimal points standard deviation of the array. Standard deviation is counted via s_std function from subpackage stats\n",
    "    \n",
    "    e) s_se - returns a float, rounded to 4 decimal points sample standard error of the array. Standard error is counted via sample_std function from boot_func module\n",
    "    \n",
    "    f) simulation: \n",
    "        * calls the sample_distr function from boot_func module\n",
    "        * prints out float, rounded to 4 decimal points theoretical mean (the mean of original array), float, rounded to 4 decimal points simulated mean (the mean of 10000 resampled arrays), float, rounded to 4 decimal points theoretical standard error, and float, rounded to 4 decimal points simulated standard error\n",
    "        * plots a histogram of simulated means.\n",
    "    "
   ]
  },
  {
   "cell_type": "code",
   "execution_count": 8,
   "metadata": {},
   "outputs": [
    {
     "name": "stdout",
     "output_type": "stream",
     "text": [
      "Original array: [350 279   7  43 227 159 295 251 462 266 163 308 442 407 452 206 283 356\n",
      "  80 355 290  81  55  91 140 293 427 334 328 106 123 471  10 253 147  10\n",
      " 437 119 351 320 144 327 284 227 189  65 238 372 297  33  86 320  69 472\n",
      " 450 170 166 107  10  86 252 167  75 177 465 496 224 343 100  27 201  33\n",
      "  26 370 301 449 488 295 114 380 372 466 323  32 199 245 134 231  58  82\n",
      "  17 334  24  61 146 157 212  93 473  67  72 120 403 262 228 388 125 162\n",
      "  99 469 173 272 486 283  96 454 398  29 242  35 113 286 331 174 262 184\n",
      " 135 286 229 260 457  35 134 479 354 456  56 237  74 378  55 480 398 213\n",
      "   4 213 296 310 328   0 284 293   5 423 333  12  16 247 460 289 128 178\n",
      " 429 361 331 360 105 171  88 211 234 253 350 368 244 372  49  27 440 489\n",
      " 239 156 356 402 206 395 334 213  32 447 296 320 198 298 379 135 196 269\n",
      " 204  48  53 332 266 297 460 355 131 179 194 446  17 430  66  77 270 376\n",
      " 317  38 476 145 317 352 388 392 493 200 339 260 484 222 448 194 383 201\n",
      " 151 463 132  90  51 274 490 206 324 316  72 234 467 387  58  40]\n",
      "Resampled array [380 170 379 402 238 100  69 194 339 430 446 199  32 493 290 213  17  17\n",
      "   0 489  91  58  38 296 370 237 206 125 473  91 296 407 496 388 295 140\n",
      " 402 328 463 437 488 269  35 147  99 448  81 437 427 308  51 328 114 286\n",
      " 290  26 471 387 198  48 251  90 156 429 167 289 239 290  10 290 286  43\n",
      " 286 479 323  10 320 262 407  35  99 212 234]\n",
      "Sample standard error: 9.0168\n",
      "Standard error: 8.9988\n",
      "Sample distribution: [244.91566265 244.03614458 241.12048193 ... 245.97590361 243.30120482\n",
      " 271.44578313]\n"
     ]
    },
    {
     "data": {
      "image/png": "[encoded data removed]",
      "text/plain": [
       "<Figure size 432x288 with 1 Axes>"
      ]
     },
     "metadata": {
      "needs_background": "light"
     },
     "output_type": "display_data"
    }
   ],
   "source": [
    "#Test of boot_func module:\n",
    "x=np.random.randint(0,500,250)\n",
    "print(\"Original array: {}\".format(x))\n",
    "#Call resample function\n",
    "print(\"Resampled array {}\".format(bf.resample(x)))\n",
    "#Call sample standard error function\n",
    "print(\"Sample standard error: {}\".format(bf.sample_stand_err(x)))\n",
    "#Call standard error function\n",
    "print(\"Standard error: {}\".format(bf.stand_err(x)))\n",
    "#Call sample distribution function\n",
    "sample=bf.sample_distr(x)\n",
    "print(\"Sample distribution: {}\".format(sample))\n",
    "#Call b_plot function:\n",
    "bf.b_plot(sample)"
   ]
  },
  {
   "cell_type": "code",
   "execution_count": 9,
   "metadata": {},
   "outputs": [
    {
     "name": "stdout",
     "output_type": "stream",
     "text": [
      "The original array is: [350 279   7  43 227 159 295 251 462 266 163 308 442 407 452 206 283 356\n",
      "  80 355 290  81  55  91 140 293 427 334 328 106 123 471  10 253 147  10\n",
      " 437 119 351 320 144 327 284 227 189  65 238 372 297  33  86 320  69 472\n",
      " 450 170 166 107  10  86 252 167  75 177 465 496 224 343 100  27 201  33\n",
      "  26 370 301 449 488 295 114 380 372 466 323  32 199 245 134 231  58  82\n",
      "  17 334  24  61 146 157 212  93 473  67  72 120 403 262 228 388 125 162\n",
      "  99 469 173 272 486 283  96 454 398  29 242  35 113 286 331 174 262 184\n",
      " 135 286 229 260 457  35 134 479 354 456  56 237  74 378  55 480 398 213\n",
      "   4 213 296 310 328   0 284 293   5 423 333  12  16 247 460 289 128 178\n",
      " 429 361 331 360 105 171  88 211 234 253 350 368 244 372  49  27 440 489\n",
      " 239 156 356 402 206 395 334 213  32 447 296 320 198 298 379 135 196 269\n",
      " 204  48  53 332 266 297 460 355 131 179 194 446  17 430  66  77 270 376\n",
      " 317  38 476 145 317 352 388 392 493 200 339 260 484 222 448 194 383 201\n",
      " 151 463 132  90  51 274 490 206 324 316  72 234 467 387  58  40]\n",
      "The mean of original array: 242.548\n",
      "The standard deviation of original array: 142.283\n",
      "The standard error of original array: 9.0168\n",
      "Simulation results: \n",
      "Theoretical mean and simulated mean: 242.548,242.2723\n",
      "Theoretical SE and simulated SE: 9.0168,15.4854\n"
     ]
    },
    {
     "data": {
      "image/png": "[encoded data removed]",
      "text/plain": [
       "<Figure size 432x288 with 1 Axes>"
      ]
     },
     "metadata": {
      "needs_background": "light"
     },
     "output_type": "display_data"
    }
   ],
   "source": [
    "#Test of bootstrap module, using numpy array as input:\n",
    "#Initialize the Bootstrap class\n",
    "test=bt.Bootstrap(x)\n",
    "#Call print_nums \n",
    "test.print_nums()\n",
    "#Call mean\n",
    "m=test.mean()\n",
    "print(\"The mean of original array: {}\".format(m))\n",
    "#Call sd\n",
    "s=test.sd()\n",
    "print(\"The standard deviation of original array: {}\".format(s))\n",
    "#Call se\n",
    "se=test.s_se()\n",
    "print(\"The standard error of original array: {}\".format(se))\n",
    "#Call simulation\n",
    "test.simulation()"
   ]
  },
  {
   "cell_type": "code",
   "execution_count": 10,
   "metadata": {},
   "outputs": [
    {
     "name": "stdout",
     "output_type": "stream",
     "text": [
      "Transfered the list to numpy array\n",
      "The original array is: [16, 48, 21, 55, 35, 99, 47, 98, 81, 13, 31, 67, 46, 60, 51, 30, 15, 13, 97, 55, 23, 32, 62, 28, 12, 7, 11, 86, 35, 2, 41, 4, 46, 76, 40, 67, 89, 27, 64, 3, 12, 2, 4, 43, 92, 94, 42, 26, 50, 75]\n",
      "The mean of original array: 43.46\n",
      "The standard deviation of original array: 29.0112\n",
      "The standard error of original array: 4.1445\n",
      "Simulation results: \n",
      "Theoretical mean and simulated mean: 43.46,43.4511\n",
      "Theoretical SE and simulated SE: 4.1445,7.3392\n"
     ]
    },
    {
     "data": {
      "image/png": "[encoded data removed]",
      "text/plain": [
       "<Figure size 432x288 with 1 Axes>"
      ]
     },
     "metadata": {
      "needs_background": "light"
     },
     "output_type": "display_data"
    }
   ],
   "source": [
    "#Test of bootstrap module, using list as input\n",
    "y=[16, 48, 21, 55, 35, 99, 47, 98, 81, 13, 31, 67, 46, 60, 51, 30, 15,\n",
    "       13, 97, 55, 23, 32, 62, 28, 12,  7, 11, 86, 35,  2, 41,  4, 46, 76,\n",
    "       40, 67, 89, 27, 64,  3, 12,  2,  4, 43, 92, 94, 42, 26, 50, 75]\n",
    "test1=bt.Bootstrap(y)\n",
    "#Call print_nums \n",
    "test1.print_nums()\n",
    "#Call mean\n",
    "m1=test1.mean()\n",
    "print(\"The mean of original array: {}\".format(m1))\n",
    "#Call sd\n",
    "s1=test1.sd()\n",
    "print(\"The standard deviation of original array: {}\".format(s1))\n",
    "#Call se\n",
    "se1=test1.s_se()\n",
    "print(\"The standard error of original array: {}\".format(se1))\n",
    "#Call simulation\n",
    "test1.simulation()"
   ]
  },
  {
   "cell_type": "code",
   "execution_count": null,
   "metadata": {},
   "outputs": [],
   "source": []
  }
 ],
 "metadata": {
  "kernelspec": {
   "display_name": "Python 3",
   "language": "python",
   "name": "python3"
  },
  "language_info": {
   "codemirror_mode": {
    "name": "ipython",
    "version": 3
   },
   "file_extension": ".py",
   "mimetype": "text/x-python",
   "name": "python",
   "nbconvert_exporter": "python",
   "pygments_lexer": "ipython3",
   "version": "3.7.3"
  }
 },
 "nbformat": 4,
 "nbformat_minor": 2
}
