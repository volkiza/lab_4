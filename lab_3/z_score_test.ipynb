{
 "cells": [
  {
   "cell_type": "code",
   "execution_count": 2,
   "metadata": {},
   "outputs": [],
   "source": [
    "import unittest\n",
    "import z_score as z\n",
    "import numpy as np"
   ]
  },
  {
   "cell_type": "code",
   "execution_count": 3,
   "metadata": {},
   "outputs": [
    {
     "name": "stderr",
     "output_type": "stream",
     "text": [
      "test_p_se (__main__.TestZ_score) ... ok\n",
      "test_p_zscore (__main__.TestZ_score) ... "
     ]
    },
    {
     "name": "stdout",
     "output_type": "stream",
     "text": [
      "Set Up Class\n",
      "Set Up\n",
      "Error: values and n should be greater than 0\n",
      "Error: values and n should be greater than 0\n",
      "Error: values and n should be greater than 0\n",
      "Error: values and n should be greater than 0\n",
      "Error: values and n should be greater than 0\n",
      "Tear Down\n",
      "Set Up\n",
      "Error: values and n should be greater than 0\n",
      "Error: values and n should be greater than 0\n",
      "Error: values and n should be greater than 0\n",
      "Error: values and n should be greater than 0\n",
      "Error: values and n should be greater than 0\n",
      "Tear Down\n",
      "Tear Down Class\n"
     ]
    },
    {
     "name": "stderr",
     "output_type": "stream",
     "text": [
      "ok\n",
      "\n",
      "----------------------------------------------------------------------\n",
      "Ran 2 tests in 0.003s\n",
      "\n",
      "OK\n"
     ]
    },
    {
     "data": {
      "text/plain": [
       "<unittest.main.TestProgram at 0x116a5ea20>"
      ]
     },
     "execution_count": 3,
     "metadata": {},
     "output_type": "execute_result"
    }
   ],
   "source": [
    "class TestZ_score(unittest.TestCase):\n",
    "    \n",
    "    np.random.seed(12345)\n",
    "    \n",
    "    @classmethod\n",
    "    def setUpClass(cls):\n",
    "        print(\"Set Up Class\")\n",
    "\n",
    "    def setUp(self):\n",
    "        print('Set Up')\n",
    "    \n",
    "    def test_p_zscore(self):\n",
    "        np.random.seed(12345)\n",
    "        self.assertEqual(z.p_zscore(6,3,7), 1.414213562373095)\n",
    "        self.assertIsNone(z.p_zscore(6,3,0))\n",
    "        self.assertEqual(z.p_zscore(2,3,5), 0.7071067811865476)\n",
    "        self.assertIsNone(z.p_zscore(2,0,6))\n",
    "        self.assertEqual(z.p_zscore(3,3,5), 2.449489742783178)\n",
    "        self.assertIsNone(z.p_zscore(3,3,-1))\n",
    "        self.assertEqual(z.p_zscore(4,3,5), 1.8708286933869707)\n",
    "        self.assertIsNone(z.p_zscore(4,0,5))\n",
    "        self.assertEqual(z.p_zscore(5,3,5), 5.65685424949238)\n",
    "        self.assertIsNone(z.p_zscore(5,3,-1))\n",
    "    \n",
    "    def test_p_se(self):\n",
    "        np.random.seed(12345)\n",
    "        self.assertEqual(z.p_se(3,5), 0.7200822998230956)\n",
    "        self.assertIsNone(z.p_se(3,0))\n",
    "        self.assertEqual(z.p_se(4,10), 1.4737282653189494)\n",
    "        self.assertIsNone(z.p_se(0,10))\n",
    "        self.assertEqual(z.p_se(5,15), 2.2018174311236614)\n",
    "        self.assertIsNone(z.p_se(5,0))\n",
    "        self.assertEqual(z.p_se(6,20), 2.0092379244472363)\n",
    "        self.assertIsNone(z.p_se(0,20))\n",
    "        self.assertEqual(z.p_se(7,25), 2.7658896891587617)\n",
    "        self.assertIsNone(z.p_se(7,0))\n",
    "        \n",
    "    def tearDown(self):\n",
    "        print('Tear Down')\n",
    "    \n",
    "    @classmethod\n",
    "    def tearDownClass(cls):\n",
    "        print(\"Tear Down Class\")\n",
    "\n",
    "unittest.main(argv=[''], verbosity=2, exit=False)"
   ]
  },
  {
   "cell_type": "code",
   "execution_count": null,
   "metadata": {},
   "outputs": [],
   "source": []
  }
 ],
 "metadata": {
  "kernelspec": {
   "display_name": "Python 3",
   "language": "python",
   "name": "python3"
  },
  "language_info": {
   "codemirror_mode": {
    "name": "ipython",
    "version": 3
   },
   "file_extension": ".py",
   "mimetype": "text/x-python",
   "name": "python",
   "nbconvert_exporter": "python",
   "pygments_lexer": "ipython3",
   "version": "3.7.3"
  }
 },
 "nbformat": 4,
 "nbformat_minor": 2
}
