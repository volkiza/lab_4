{
 "cells": [
  {
   "cell_type": "code",
   "execution_count": 57,
   "metadata": {},
   "outputs": [],
   "source": [
    "class LengthError(Exception):\n",
    "    pass\n",
    "class NonNumpy(Exception):\n",
    "    pass"
   ]
  },
  {
   "cell_type": "code",
   "execution_count": null,
   "metadata": {},
   "outputs": [],
   "source": []
  },
  {
   "cell_type": "code",
   "execution_count": 62,
   "metadata": {},
   "outputs": [],
   "source": [
    "import matplotlib\n",
    "import numpy as np\n",
    "import matplotlib.pyplot as plt\n",
    "import sys\n",
    "#sys.path.append(\"..\")\n",
    "\n",
    "import statcalc.stats.stats as st\n",
    "\n",
    "def resample(nums):\n",
    "    try:\n",
    "        if type(nums)!=np.ndarray:\n",
    "            raise(NonNumpy)\n",
    "        ran=np.random.choice(nums,size=int(len(nums)/3),replace=True)\n",
    "        if nums.shape[0]<50:\n",
    "            raise(LengthError)\n",
    "        return ran\n",
    "    except LengthError:\n",
    "        print (\"The array of size {} too short\".format(nums.shape[0]))\n",
    "    except NonNumpy:\n",
    "        print(\"Inapropriate type, pass numpy array\")\n",
    "    except:\n",
    "        print(\"Something wrong, try one more time\")\n",
    "def sample_stand_err(nums):\n",
    "    try:\n",
    "        if type(nums)!=np.ndarray:\n",
    "            raise(NonNumpy)\n",
    "        if nums.shape[0]<50:\n",
    "            raise(LengthError)\n",
    "        return float('%.4f' % round((st.sample_std(nums)/len(nums)**0.5),4))\n",
    "    except LengthError:\n",
    "        print (\"The array of size {} too short\".format(nums.shape[0]))\n",
    "    except NonNumpy:\n",
    "        print(\"Inapropriate type, pass numpy array\")\n",
    "    except:\n",
    "        print(\"Something wrong, try one more time\")\n",
    "def stand_err(nums):\n",
    "    try:\n",
    "        if type(nums)!=np.ndarray:\n",
    "            raise(NonNumpy)\n",
    "        if nums.shape[0]<50:\n",
    "            raise(LengthError)\n",
    "        return float('%.4f' % round((st.s_std(nums)/len(nums)**0.5),4))\n",
    "    except LengthError:\n",
    "        print (\"The array of size {} too short\".format(nums.shape[0])) \n",
    "    except NonNumpy:\n",
    "        print(\"Inapropriate type, pass numpy array\")\n",
    "    except:\n",
    "        print(\"Something wrong, try one more time\")\n",
    "def sample_distr(nums):\n",
    "    sample_props=[]\n",
    "    for _ in range(10000):\n",
    "        sample=resample(nums)\n",
    "        sample_props.append(st.s_mean(sample))\n",
    "    sample_props=np.array(sample_props)\n",
    "    return sample_props\n",
    "def b_plot(nums):\n",
    "    plt.hist(nums,color=\"pink\",linewidth=2)\n",
    "    plt.xlabel('Mean')\n",
    "    plt.title('Simulated sampling distribution') \n",
    "    plt.show()\n",
    "\n",
    "\n"
   ]
  },
  {
   "cell_type": "code",
   "execution_count": 63,
   "metadata": {},
   "outputs": [
    {
     "data": {
      "text/plain": [
       "array([ 0,  1,  2,  3,  4,  5,  6,  7,  8,  9, 10, 11, 12, 13, 14, 15, 16,\n",
       "       17, 18, 19, 20, 21, 22, 23, 24, 25, 26, 27, 28, 29, 30, 31, 32, 33,\n",
       "       34, 35, 36, 37, 38, 39, 40, 41, 42, 43, 44, 45, 46, 47, 48, 49, 50,\n",
       "       51, 52, 53, 54, 55, 56, 57, 58, 59, 60, 61, 62, 63, 64, 65, 66, 67,\n",
       "       68, 69, 70, 71, 72, 73, 74, 75, 76, 77, 78, 79, 80, 81, 82, 83, 84,\n",
       "       85, 86, 87, 88, 89, 90, 91, 92, 93, 94, 95, 96, 97, 98, 99])"
      ]
     },
     "execution_count": 63,
     "metadata": {},
     "output_type": "execute_result"
    }
   ],
   "source": [
    "p1=np.arange(0,100)\n",
    "p1"
   ]
  },
  {
   "cell_type": "code",
   "execution_count": 64,
   "metadata": {},
   "outputs": [
    {
     "data": {
      "text/plain": [
       "array([88, 90, 24, 90, 77, 69,  6, 94, 27, 83, 26, 63, 32, 40, 95,  6, 79,\n",
       "       55, 10, 21, 49, 79, 33, 50, 13, 79, 69, 15, 15, 51, 49, 38, 29])"
      ]
     },
     "execution_count": 64,
     "metadata": {},
     "output_type": "execute_result"
    }
   ],
   "source": [
    "resample(p1)"
   ]
  },
  {
   "cell_type": "code",
   "execution_count": 65,
   "metadata": {},
   "outputs": [],
   "source": [
    "p2=[ 0,  1,  2,  3,  4,  5,  6,  7,  8,  9, 10, 11, 12, 13, 14, 15, 16,\n",
    "       17, 18, 19, 20, 21, 22, 23, 24, 25, 26, 27, 28, 29, 30, 31, 32, 33,\n",
    "       34, 35, 36, 37, 38, 39, 40, 41, 42, 43, 44, 45, 46, 47, 48, 49, 50,\n",
    "       51, 52, 53, 54, 55, 56, 57, 58, 59, 60, 61, 62, 63, 64, 65, 66, 67,\n",
    "       68, 69, 70, 71, 72, 73, 74, 75, 76, 77, 78, 79, 80, 81, 82, 83, 84,\n",
    "       85, 86, 87, 88, 89, 90, 91, 92, 93, 94, 95, 96, 97, 98, 99]"
   ]
  },
  {
   "cell_type": "code",
   "execution_count": 66,
   "metadata": {},
   "outputs": [
    {
     "data": {
      "text/plain": [
       "list"
      ]
     },
     "execution_count": 66,
     "metadata": {},
     "output_type": "execute_result"
    }
   ],
   "source": [
    "type(p2)"
   ]
  },
  {
   "cell_type": "code",
   "execution_count": 67,
   "metadata": {},
   "outputs": [
    {
     "name": "stdout",
     "output_type": "stream",
     "text": [
      "Inapropriate type, pass numpy array\n"
     ]
    }
   ],
   "source": [
    "resample(p2)"
   ]
  },
  {
   "cell_type": "code",
   "execution_count": 68,
   "metadata": {},
   "outputs": [
    {
     "data": {
      "text/plain": [
       "array([ 0,  1,  2,  3,  4,  5,  6,  7,  8,  9, 10, 11, 12, 13, 14, 15, 16,\n",
       "       17, 18, 19, 20, 21, 22, 23, 24, 25, 26, 27, 28, 29, 30, 31, 32, 33,\n",
       "       34, 35, 36, 37, 38, 39])"
      ]
     },
     "execution_count": 68,
     "metadata": {},
     "output_type": "execute_result"
    }
   ],
   "source": [
    "p3=np.arange(0,40)\n",
    "p3"
   ]
  },
  {
   "cell_type": "code",
   "execution_count": 51,
   "metadata": {},
   "outputs": [
    {
     "name": "stdout",
     "output_type": "stream",
     "text": [
      "The array of size 40 too short\n"
     ]
    }
   ],
   "source": [
    "resample(p3)"
   ]
  },
  {
   "cell_type": "code",
   "execution_count": null,
   "metadata": {},
   "outputs": [],
   "source": []
  }
 ],
 "metadata": {
  "kernelspec": {
   "display_name": "Python 3",
   "language": "python",
   "name": "python3"
  },
  "language_info": {
   "codemirror_mode": {
    "name": "ipython",
    "version": 3
   },
   "file_extension": ".py",
   "mimetype": "text/x-python",
   "name": "python",
   "nbconvert_exporter": "python",
   "pygments_lexer": "ipython3",
   "version": "3.7.3"
  }
 },
 "nbformat": 4,
 "nbformat_minor": 2
}
