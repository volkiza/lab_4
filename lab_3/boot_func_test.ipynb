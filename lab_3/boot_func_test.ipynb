{
 "cells": [
  {
   "cell_type": "code",
   "execution_count": 12,
   "metadata": {},
   "outputs": [],
   "source": [
    "import unittest\n",
    "import statcalc.stats.bootstrap.boot_func as st\n",
    "import numpy as np\n",
    "from unittest import mock\n",
    "import matplotlib.pyplot as plt"
   ]
  },
  {
   "cell_type": "code",
   "execution_count": 16,
   "metadata": {},
   "outputs": [
    {
     "name": "stderr",
     "output_type": "stream",
     "text": [
      "test_module (__main__.Boot_func_test) ... ok\n",
      "test_resample (__main__.Boot_func_test) ... ok\n",
      "test_sample_distr (__main__.Boot_func_test) ... "
     ]
    },
    {
     "name": "stdout",
     "output_type": "stream",
     "text": [
      "setupclass Boot_func_test\n",
      "The variables are initialized\n",
      "The test is over\n",
      "The variables are initialized\n",
      "Test resample\n",
      "The test is over\n",
      "The variables are initialized\n",
      "Test sample_distr\n"
     ]
    },
    {
     "name": "stderr",
     "output_type": "stream",
     "text": [
      "ok\n",
      "test_sample_stand_err (__main__.Boot_func_test) ... ok\n",
      "test_stand_err (__main__.Boot_func_test) ... "
     ]
    },
    {
     "name": "stdout",
     "output_type": "stream",
     "text": [
      "The test is over\n",
      "The variables are initialized\n",
      "Test sample_stand_err\n",
      "The test is over\n",
      "The variables are initialized\n",
      "Test stand_err\n",
      "The test is over\n",
      "teardownClass Boot_func_test\n"
     ]
    },
    {
     "name": "stderr",
     "output_type": "stream",
     "text": [
      "ok\n",
      "\n",
      "----------------------------------------------------------------------\n",
      "Ran 5 tests in 0.674s\n",
      "\n",
      "OK\n"
     ]
    },
    {
     "data": {
      "text/plain": [
       "<unittest.main.TestProgram at 0x112cb0978>"
      ]
     },
     "execution_count": 16,
     "metadata": {},
     "output_type": "execute_result"
    }
   ],
   "source": [
    "class Boot_func_test(unittest.TestCase):\n",
    "    @classmethod\n",
    "    def setUpClass(cls):\n",
    "        print('setupclass Boot_func_test')\n",
    "    def setUp(self):\n",
    "        #We need to setup arrays for every function because resampling is used\n",
    "        self.p1=np.array([166, 201, 458, 190, 445,  87, 385, 427, 387, 166, 474,  49, 430,\n",
    "       205,  54, 343, 413, 389,  20,  58, 191,  87, 463,  88, 389,  52,\n",
    "       102,   1, 102,  20])\n",
    "        self.p2=[1,2,3,4,5,6,7,8,9,10]\n",
    "        self.p3=np.array([61, 26, 80, 82, 92, 21, 30, 68, 97, 42, 56,  8, 36, 35, 56,  9, 73,\n",
    "       69, 87, 68,  7,  8, 84, 71, 99, 80, 67, 51, 15, 25])\n",
    "        self.p4=np.array([314, 438, 478, 346, 213, 317, 456, 200,  20, 225, 253, 299, 171,\n",
    "       307, 226, 469,  72, 139, 171, 345,   1, 469, 434, 334,  45,  16,\n",
    "       415,  17, 421, 102, 112, 134, 295, 440, 394, 168, 355, 204, 122,\n",
    "       488, 355, 317, 288,  23, 270,  64, 368, 367, 478, 406,  65,  39,\n",
    "        46,  40, 147,  92,   6,  28, 484, 215])\n",
    "        self.p5=[135,  61, 103,  73,  43,  11, 330, 294,  39,  65, 477, 130, 462,\n",
    "       488, 438]\n",
    "        print(\"The variables are initialized\")\n",
    "    def test_sample_stand_err(self):\n",
    "        print(\"Test sample_stand_err\")\n",
    "        self.assertEqual(st.sample_stand_err(self.p1),30.4842)\n",
    "        self.assertIsNotNone(st.sample_stand_err(self.p2))\n",
    "        self.assertIsNotNone(st.sample_stand_err(self.p3))\n",
    "        self.assertEqual(st.sample_stand_err(self.p4),20.2923)\n",
    "        self.assertEqual(st.sample_stand_err(self.p5),47.1935)\n",
    "    def test_stand_err(self):\n",
    "        print(\"Test stand_err\")\n",
    "        self.assertIsNotNone(st.stand_err(self.p1))\n",
    "        self.assertEqual(st.stand_err(self.p2),0.9083)\n",
    "        self.assertEqual(st.stand_err(self.p3),5.2748)\n",
    "        self.assertEqual(st.stand_err(self.p4),20.1225)\n",
    "        self.assertIsNotNone(st.stand_err(self.p5))\n",
    "    def test_sample_distr(self):\n",
    "        print(\"Test sample_distr\")\n",
    "        self.assertEqual(len(st.sample_distr(self.p1)),10000)\n",
    "        self.assertEqual(len(st.sample_distr(self.p2)),10000)\n",
    "        self.assertIsNotNone(st.sample_distr(self.p3))\n",
    "        self.assertIsNotNone(st.sample_distr(self.p4))\n",
    "        self.assertIsNotNone(st.sample_distr(self.p5))\n",
    "    def test_resample(self):\n",
    "        print(\"Test resample\")\n",
    "        self.assertEqual(int(len(self.p1)/3), len(st.resample(self.p1)))\n",
    "        self.assertEqual(int(len(self.p2)/3), len(st.resample(self.p2)))\n",
    "        self.assertEqual(int(len(self.p3)/3), len(st.resample(self.p3)))\n",
    "        self.assertIsNotNone(st.resample(self.p4))\n",
    "        self.assertIsNotNone(st.resample(self.p5))\n",
    "    @mock.patch(\"%s.st.plt\" % __name__)\n",
    "    def test_module(self,mock_plt):\n",
    "        st.b_plot(self.p1)\n",
    "        assert mock_plt.title.call_args_list[0][0][0] == 'Simulated sampling distribution'\n",
    "        assert mock_plt.hist.called\n",
    "        st.b_plot(self.p2)\n",
    "        assert mock_plt.title.call_args_list[0][0][0] == 'Simulated sampling distribution'\n",
    "        assert mock_plt.hist.called\n",
    "        st.b_plot(self.p3)\n",
    "        assert mock_plt.title.call_args_list[0][0][0] == 'Simulated sampling distribution'\n",
    "        assert mock_plt.hist.called\n",
    "        st.b_plot(self.p4)\n",
    "        assert mock_plt.title.call_args_list[0][0][0] == 'Simulated sampling distribution'\n",
    "        assert mock_plt.hist.called\n",
    "        st.b_plot(self.p5)\n",
    "        assert mock_plt.title.call_args_list[0][0][0] == 'Simulated sampling distribution'\n",
    "        assert mock_plt.hist.called\n",
    "    def tearDown(self):\n",
    "        print(\"The test is over\")\n",
    "        \n",
    "    @classmethod\n",
    "    def tearDownClass(cls):\n",
    "        print('teardownClass Boot_func_test')\n",
    "        \n",
    "unittest.main(argv=[''], verbosity=2, exit=False)\n"
   ]
  },
  {
   "cell_type": "code",
   "execution_count": null,
   "metadata": {},
   "outputs": [],
   "source": []
  }
 ],
 "metadata": {
  "kernelspec": {
   "display_name": "Python 3",
   "language": "python",
   "name": "python3"
  },
  "language_info": {
   "codemirror_mode": {
    "name": "ipython",
    "version": 3
   },
   "file_extension": ".py",
   "mimetype": "text/x-python",
   "name": "python",
   "nbconvert_exporter": "python",
   "pygments_lexer": "ipython3",
   "version": "3.7.3"
  }
 },
 "nbformat": 4,
 "nbformat_minor": 2
}
