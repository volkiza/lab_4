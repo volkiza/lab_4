{
 "cells": [
  {
   "cell_type": "code",
   "execution_count": 2,
   "metadata": {},
   "outputs": [],
   "source": [
    "import unittest\n",
    "import knn as k\n",
    "import numpy as np"
   ]
  },
  {
   "cell_type": "code",
   "execution_count": 5,
   "metadata": {},
   "outputs": [
    {
     "name": "stderr",
     "output_type": "stream",
     "text": [
      "test_knn (__main__.TestKnn) ... "
     ]
    },
    {
     "name": "stdout",
     "output_type": "stream",
     "text": [
      "Set Up Class\n",
      "Set Up\n",
      "Error: n_neighbors should be greater than 0\n",
      "Error: n_neighbors should be greater than 0\n",
      "Error: n_neighbors should be greater than 0\n",
      "Error: n_neighbors should be greater than 0\n",
      "Error: n_neighbors should be greater than 0\n",
      "Error: n_neighbors should be greater than 0\n",
      "Error: n_neighbors should be greater than 0\n",
      "Error: n_neighbors should be greater than 0\n",
      "Error: n_neighbors should be greater than 0\n",
      "Error: n_neighbors should be greater than 0\n",
      "Tear Down\n",
      "Tear Down Class\n"
     ]
    },
    {
     "name": "stderr",
     "output_type": "stream",
     "text": [
      "ok\n",
      "\n",
      "----------------------------------------------------------------------\n",
      "Ran 1 test in 0.022s\n",
      "\n",
      "OK\n"
     ]
    },
    {
     "data": {
      "text/plain": [
       "<unittest.main.TestProgram at 0x110dcdc18>"
      ]
     },
     "execution_count": 5,
     "metadata": {},
     "output_type": "execute_result"
    }
   ],
   "source": [
    "class TestKnn(unittest.TestCase):\n",
    "    \n",
    "    np.random.seed(12345)\n",
    "    \n",
    "    @classmethod\n",
    "    def setUpClass(cls):\n",
    "        print(\"Set Up Class\")\n",
    "\n",
    "    def setUp(self):\n",
    "        print('Set Up')\n",
    "    \n",
    "    def test_knn(self):\n",
    "        np.random.seed(12345)\n",
    "        dataset = np.random.choice(range(1,100),100)\n",
    "        self.assertEqual(k.knn(dataset, dataset[5], 4), 36.0)\n",
    "        self.assertIsNone(k.knn(dataset, dataset[5], 0))\n",
    "        self.assertIsNone(k.knn('test', dataset[5], 0))\n",
    "        \n",
    "        dataset1 = np.random.choice(range(1,200),200)\n",
    "        self.assertEqual(k.knn(dataset1, dataset1[5], 4), 118.75)\n",
    "        self.assertIsNone(k.knn(dataset1, dataset1[5], 0))\n",
    "        self.assertIsNone(k.knn('test', dataset1[5], 0))\n",
    "        \n",
    "        dataset2 = np.random.choice(range(1,300),300)\n",
    "        self.assertEqual(k.knn(dataset2, dataset2[5], 4), 212.25)\n",
    "        self.assertIsNone(k.knn(dataset2, dataset2[5], 0))\n",
    "        self.assertIsNone(k.knn('test', dataset2[5], 0))\n",
    "        \n",
    "        dataset3 = np.random.choice(range(1,400),400)\n",
    "        self.assertEqual(k.knn(dataset3, dataset3[5], 4), 44.0)\n",
    "        self.assertIsNone(k.knn(dataset3, dataset3[5], 0))\n",
    "        self.assertIsNone(k.knn('test', dataset3[5], 0))\n",
    "        \n",
    "        dataset4 = np.random.choice(range(1,500),500)\n",
    "        self.assertEqual(k.knn(dataset4, dataset4[5], 4), 149.5)\n",
    "        self.assertIsNone(k.knn(dataset4, dataset4[5], 0))\n",
    "        self.assertIsNone(k.knn('test', dataset4[5], 0))\n",
    "\n",
    "    def tearDown(self):\n",
    "        print('Tear Down')\n",
    "    \n",
    "    @classmethod\n",
    "    def tearDownClass(cls):\n",
    "        print(\"Tear Down Class\")\n",
    "\n",
    "unittest.main(argv=[''], verbosity=2, exit=False)"
   ]
  },
  {
   "cell_type": "code",
   "execution_count": null,
   "metadata": {},
   "outputs": [],
   "source": []
  }
 ],
 "metadata": {
  "kernelspec": {
   "display_name": "Python 3",
   "language": "python",
   "name": "python3"
  },
  "language_info": {
   "codemirror_mode": {
    "name": "ipython",
    "version": 3
   },
   "file_extension": ".py",
   "mimetype": "text/x-python",
   "name": "python",
   "nbconvert_exporter": "python",
   "pygments_lexer": "ipython3",
   "version": "3.7.3"
  }
 },
 "nbformat": 4,
 "nbformat_minor": 2
}
