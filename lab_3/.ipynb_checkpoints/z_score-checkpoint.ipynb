{
 "cells": [
  {
   "cell_type": "code",
   "execution_count": 1,
   "metadata": {},
   "outputs": [],
   "source": [
    "class nonNegative(Exception):\n",
    "    \"\"\"Raised when the input value is a negative number\"\"\"\n",
    "    pass\n",
    "class nonText(Exception):\n",
    "    \"\"\"Raised when the input value is a string\"\"\"\n",
    "    pass"
   ]
  },
  {
   "cell_type": "code",
   "execution_count": 2,
   "metadata": {},
   "outputs": [],
   "source": [
    "#z_score\n",
    "import numpy as np\n",
    "import statcalc.stats.stats as st\n",
    "\n",
    "def p_obs(n,values):\n",
    "    try:\n",
    "        if values <= 0:\n",
    "            raise(nonNegative)\n",
    "        if n <= 0:\n",
    "            reaise(nonNegative)\n",
    "        population = np.random.randint(0,values, size = n)\n",
    "        return population\n",
    "    except nonNegative:\n",
    "        print (\"Error: values and n should be greater than 0\")\n",
    "\n",
    "def p_zscore(x,n,values):\n",
    "    try:\n",
    "        if values <= 0:\n",
    "            raise(nonNegative)\n",
    "        if n <= 0:\n",
    "            raise(nonNegative)\n",
    "        if x == str(x):\n",
    "            raise(nonText)\n",
    "        z = (x - st.s_mean(p_obs(n,values))) / st.s_std(p_obs(n,values))\n",
    "        return z\n",
    "    except nonNegative:\n",
    "        print (\"Error: values and n should be greater than 0\")\n",
    "    except nonText:\n",
    "        print(\"Error: not supporting string, please type a number\")\n",
    "\n",
    "\n",
    "def p_se(n,values):\n",
    "    try:\n",
    "        if values <= 0:\n",
    "            raise(nonNegative)\n",
    "        if n <= 0:\n",
    "            raise(nonNegative)\n",
    "        se = st.s_std(p_obs(n,values)) / (len(p_obs(n,values))**(1/2))\n",
    "        return se\n",
    "    except nonNegative:\n",
    "        print (\"Error: values and n should be greater than 0\")\n",
    "    except:\n",
    "        print(\"Error: unknown error\")"
   ]
  },
  {
   "cell_type": "code",
   "execution_count": 3,
   "metadata": {},
   "outputs": [
    {
     "name": "stdout",
     "output_type": "stream",
     "text": [
      "1.414213562373095\n",
      "0.7071067811865476\n",
      "2.449489742783178\n",
      "1.8708286933869707\n",
      "5.65685424949238\n"
     ]
    }
   ],
   "source": [
    "np.random.seed(12345)\n",
    "print(p_zscore(6,3,7))\n",
    "print(p_zscore(2,3,5))\n",
    "print(p_zscore(3,3,5))\n",
    "print(p_zscore(4,3,5))\n",
    "print(p_zscore(5,3,5))"
   ]
  },
  {
   "cell_type": "code",
   "execution_count": 4,
   "metadata": {},
   "outputs": [
    {
     "name": "stdout",
     "output_type": "stream",
     "text": [
      "0.7200822998230956\n",
      "1.4737282653189494\n",
      "2.2018174311236614\n",
      "2.0092379244472363\n",
      "2.7658896891587617\n"
     ]
    }
   ],
   "source": [
    "np.random.seed(12345)\n",
    "print(p_se(3,5))\n",
    "print(p_se(4,10))\n",
    "print(p_se(5,15))\n",
    "print(p_se(6,20))\n",
    "print(p_se(7,25))"
   ]
  },
  {
   "cell_type": "code",
   "execution_count": null,
   "metadata": {},
   "outputs": [],
   "source": []
  }
 ],
 "metadata": {
  "kernelspec": {
   "display_name": "Python 3",
   "language": "python",
   "name": "python3"
  },
  "language_info": {
   "codemirror_mode": {
    "name": "ipython",
    "version": 3
   },
   "file_extension": ".py",
   "mimetype": "text/x-python",
   "name": "python",
   "nbconvert_exporter": "python",
   "pygments_lexer": "ipython3",
   "version": "3.7.3"
  }
 },
 "nbformat": 4,
 "nbformat_minor": 2
}
