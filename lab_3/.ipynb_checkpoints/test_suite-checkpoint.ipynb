{
 "cells": [
  {
   "cell_type": "code",
   "execution_count": 5,
   "metadata": {},
   "outputs": [],
   "source": [
    "import unittest\n",
    "from testDistance import TestDistance\n",
    "from testStats import TestStats\n",
    "from bootstrap_test import TestBoot\n",
    "from boot_func_test import Boot_func_test\n",
    "from z_score_test import TestZ_score\n",
    "from knn_test import TestKnn"
   ]
  },
  {
   "cell_type": "code",
   "execution_count": 6,
   "metadata": {},
   "outputs": [
    {
     "name": "stderr",
     "output_type": "stream",
     "text": [
      "........."
     ]
    },
    {
     "name": "stdout",
     "output_type": "stream",
     "text": [
      "Set Up Class\n",
      "Set Up\n",
      "Tear Down\n",
      "Set Up\n",
      "Tear Down\n",
      "Tear Down Class\n",
      "Set Up Class\n",
      "Set Up\n",
      "Tear Down\n",
      "Set Up\n",
      "Tear Down\n",
      "Set Up\n",
      "Tear Down\n",
      "Set Up\n",
      "Tear Down\n",
      "Set Up\n",
      "Tear Down\n",
      "Set Up\n",
      "Tear Down\n",
      "Tear Down Class\n",
      "setupclass Boot_func_test\n",
      "The variables are initialized\n",
      "Test resample\n",
      "The test is over\n",
      "The variables are initialized\n",
      "Test sample_distr\n"
     ]
    },
    {
     "name": "stderr",
     "output_type": "stream",
     "text": [
      ".........."
     ]
    },
    {
     "name": "stdout",
     "output_type": "stream",
     "text": [
      "The test is over\n",
      "The variables are initialized\n",
      "Test sample_stand_err\n",
      "The test is over\n",
      "The variables are initialized\n",
      "Test stand_err\n",
      "The test is over\n",
      "teardownClass Boot_func_test\n",
      "setupclass TestBoot\n",
      "The variables are initialized\n",
      "Check if the part of instance class\n",
      "The test is over\n",
      "The variables are initialized\n",
      "Test mean\n",
      "The test is over\n",
      "The variables are initialized\n",
      "Test sd\n",
      "The test is over\n",
      "The variables are initialized\n",
      "Test stand_err\n",
      "The test is over\n",
      "teardownClass TestBoot\n",
      "Set Up Class\n",
      "Set Up\n",
      "Tear Down\n",
      "Set Up\n",
      "Tear Down\n",
      "Tear Down Class\n",
      "Set Up Class\n",
      "Set Up\n",
      "Tear Down\n",
      "Tear Down Class\n",
      "<unittest.runner.TextTestResult run=19 errors=0 failures=0>\n"
     ]
    },
    {
     "name": "stderr",
     "output_type": "stream",
     "text": [
      "\n",
      "----------------------------------------------------------------------\n",
      "Ran 19 tests in 0.656s\n",
      "\n",
      "OK\n"
     ]
    }
   ],
   "source": [
    "def my_suite():\n",
    "    suite=unittest.TestSuite()\n",
    "    result=unittest.TestResult()\n",
    "    suite.addTest(unittest.makeSuite(TestDistance))\n",
    "    suite.addTest(unittest.makeSuite(TestStats))\n",
    "    suite.addTest(unittest.makeSuite(Boot_func_test))\n",
    "    suite.addTest(unittest.makeSuite(TestBoot))\n",
    "    suite.addTest(unittest.makeSuite(TestZ_score))\n",
    "    suite.addTest(unittest.makeSuite(TestKnn))\n",
    "    runner=unittest.TextTestRunner()\n",
    "    print(runner.run(suite))\n",
    "my_suite()"
   ]
  },
  {
   "cell_type": "code",
   "execution_count": null,
   "metadata": {},
   "outputs": [],
   "source": []
  }
 ],
 "metadata": {
  "kernelspec": {
   "display_name": "Python 3",
   "language": "python",
   "name": "python3"
  },
  "language_info": {
   "codemirror_mode": {
    "name": "ipython",
    "version": 3
   },
   "file_extension": ".py",
   "mimetype": "text/x-python",
   "name": "python",
   "nbconvert_exporter": "python",
   "pygments_lexer": "ipython3",
   "version": "3.7.3"
  }
 },
 "nbformat": 4,
 "nbformat_minor": 2
}
