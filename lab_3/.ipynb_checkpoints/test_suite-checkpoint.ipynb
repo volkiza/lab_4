{
 "cells": [
  {
   "cell_type": "code",
   "execution_count": 1,
   "metadata": {},
   "outputs": [
    {
     "name": "stderr",
     "output_type": "stream",
     "text": [
      "\n",
      "----------------------------------------------------------------------\n",
      "Ran 0 tests in 0.000s\n",
      "\n",
      "OK\n",
      "test_dotProd (testDistance.TestDistance) ... ok\n",
      "test_eDist (testDistance.TestDistance) ... ok\n",
      "\n",
      "----------------------------------------------------------------------\n",
      "Ran 2 tests in 0.001s\n",
      "\n",
      "OK\n",
      "test_dotProd (testDistance.TestDistance) ... ok\n",
      "test_eDist (testDistance.TestDistance) ... ok\n",
      "test_mean (testStats.TestStats) ... ok\n",
      "test_median (testStats.TestStats) ... ok\n",
      "test_sampleSd (testStats.TestStats) ... ok\n",
      "test_sampleVar (testStats.TestStats) ... ok\n",
      "test_std (testStats.TestStats) ... FAIL\n",
      "test_var (testStats.TestStats) ... "
     ]
    },
    {
     "name": "stdout",
     "output_type": "stream",
     "text": [
      "29\n",
      "3.605551275463989\n",
      "Set Up Class\n",
      "Set Up\n",
      "Tear Down\n",
      "Set Up\n",
      "Tear Down\n",
      "Tear Down Class\n",
      "Set Up Class\n",
      "Set Up\n",
      "Tear Down\n",
      "Set Up\n",
      "Tear Down\n",
      "Tear Down Class\n",
      "Set Up Class\n",
      "Set Up\n",
      "Tear Down\n",
      "Set Up\n",
      "Tear Down\n",
      "Set Up\n",
      "Tear Down\n",
      "Set Up\n",
      "Tear Down\n",
      "Set Up\n",
      "Tear Down\n",
      "Set Up\n",
      "Tear Down\n",
      "Tear Down Class\n"
     ]
    },
    {
     "name": "stderr",
     "output_type": "stream",
     "text": [
      "ok\n",
      "\n",
      "======================================================================\n",
      "FAIL: test_std (testStats.TestStats)\n",
      "----------------------------------------------------------------------\n",
      "Traceback (most recent call last):\n",
      "  File \"/Users/elizaveta_volkova/Documents/MDS_GIT/Lectures_Labs/data_533_notes/lab_2/lab_3/testStats.py\", line 51, in test_std\n",
      "    self.assertEqual(st.sample_var(self.nums1), 1.4142135623730951)\n",
      "AssertionError: 2.5 != 1.4142135623730951\n",
      "\n",
      "----------------------------------------------------------------------\n",
      "Ran 8 tests in 0.006s\n",
      "\n",
      "FAILED (failures=1)\n",
      "test_mean (bootstrap_test.TestBoot) ... ok\n",
      "test_sd (bootstrap_test.TestBoot) ... ok\n",
      "test_se (bootstrap_test.TestBoot) ... ok\n",
      "test_dotProd (testDistance.TestDistance) ... ok\n",
      "test_eDist (testDistance.TestDistance) ... ok\n",
      "test_mean (testStats.TestStats) ... ok\n",
      "test_median (testStats.TestStats) ... ok\n",
      "test_sampleSd (testStats.TestStats) ... ok\n",
      "test_sampleVar (testStats.TestStats) ... ok\n",
      "test_std (testStats.TestStats) ... FAIL\n",
      "test_var (testStats.TestStats) ... "
     ]
    },
    {
     "name": "stdout",
     "output_type": "stream",
     "text": [
      "setupclass TestBoot\n",
      "The variables are initialized\n",
      "Test mean\n",
      "The test is over\n",
      "The variables are initialized\n",
      "Test sd\n",
      "The test is over\n",
      "The variables are initialized\n",
      "Test stand_err\n",
      "The test is over\n",
      "teardownClass TestBoot\n",
      "Set Up Class\n",
      "Set Up\n",
      "Tear Down\n",
      "Set Up\n",
      "Tear Down\n",
      "Tear Down Class\n",
      "Set Up Class\n",
      "Set Up\n",
      "Tear Down\n",
      "Set Up\n",
      "Tear Down\n",
      "Set Up\n",
      "Tear Down\n",
      "Set Up\n",
      "Tear Down\n",
      "Set Up\n",
      "Tear Down\n",
      "Set Up\n",
      "Tear Down\n",
      "Tear Down Class\n"
     ]
    },
    {
     "name": "stderr",
     "output_type": "stream",
     "text": [
      "ok\n",
      "\n",
      "======================================================================\n",
      "FAIL: test_std (testStats.TestStats)\n",
      "----------------------------------------------------------------------\n",
      "Traceback (most recent call last):\n",
      "  File \"/Users/elizaveta_volkova/Documents/MDS_GIT/Lectures_Labs/data_533_notes/lab_2/lab_3/testStats.py\", line 51, in test_std\n",
      "    self.assertEqual(st.sample_var(self.nums1), 1.4142135623730951)\n",
      "AssertionError: 2.5 != 1.4142135623730951\n",
      "\n",
      "----------------------------------------------------------------------\n",
      "Ran 11 tests in 0.013s\n",
      "\n",
      "FAILED (failures=1)\n"
     ]
    }
   ],
   "source": [
    "import unittest\n",
    "from testDistance import TestDistance\n",
    "from testStats import TestStats\n",
    "from bootstrap_test import TestBoot\n",
    "from boot_func_test import Boot_func_test"
   ]
  },
  {
   "cell_type": "code",
   "execution_count": 2,
   "metadata": {},
   "outputs": [
    {
     "name": "stderr",
     "output_type": "stream",
     "text": [
      "......F....."
     ]
    },
    {
     "name": "stdout",
     "output_type": "stream",
     "text": [
      "Set Up Class\n",
      "Set Up\n",
      "Tear Down\n",
      "Set Up\n",
      "Tear Down\n",
      "Tear Down Class\n",
      "Set Up Class\n",
      "Set Up\n",
      "Tear Down\n",
      "Set Up\n",
      "Tear Down\n",
      "Set Up\n",
      "Tear Down\n",
      "Set Up\n",
      "Tear Down\n",
      "Set Up\n",
      "Tear Down\n",
      "Set Up\n",
      "Tear Down\n",
      "Tear Down Class\n",
      "setupclass TestBoot\n",
      "The variables are initialized\n",
      "Test mean\n",
      "The test is over\n",
      "The variables are initialized\n",
      "Test sd\n",
      "The test is over\n",
      "The variables are initialized\n",
      "Test stand_err\n",
      "The test is over\n",
      "teardownClass TestBoot\n",
      "setupclass Boot_func_test\n",
      "The variables are initialized\n",
      "Test resample\n",
      "The test is over\n",
      "The variables are initialized\n",
      "Test sample_distr\n"
     ]
    },
    {
     "name": "stderr",
     "output_type": "stream",
     "text": [
      "..."
     ]
    },
    {
     "name": "stdout",
     "output_type": "stream",
     "text": [
      "The test is over\n",
      "The variables are initialized\n",
      "Test sample_stand_err\n",
      "The test is over\n",
      "The variables are initialized\n",
      "Test stand_err\n",
      "The test is over\n",
      "teardownClass Boot_func_test\n",
      "<unittest.runner.TextTestResult run=15 errors=0 failures=1>\n"
     ]
    },
    {
     "name": "stderr",
     "output_type": "stream",
     "text": [
      "\n",
      "======================================================================\n",
      "FAIL: test_std (testStats.TestStats)\n",
      "----------------------------------------------------------------------\n",
      "Traceback (most recent call last):\n",
      "  File \"/Users/elizaveta_volkova/Documents/MDS_GIT/Lectures_Labs/data_533_notes/lab_2/lab_3/testStats.py\", line 51, in test_std\n",
      "    self.assertEqual(st.sample_var(self.nums1), 1.4142135623730951)\n",
      "AssertionError: 2.5 != 1.4142135623730951\n",
      "\n",
      "----------------------------------------------------------------------\n",
      "Ran 15 tests in 0.686s\n",
      "\n",
      "FAILED (failures=1)\n"
     ]
    }
   ],
   "source": [
    "def my_suite():\n",
    "    suite=unittest.TestSuite()\n",
    "    result=unittest.TestResult()\n",
    "    suite.addTest(unittest.makeSuite(TestDistance))\n",
    "    suite.addTest(unittest.makeSuite(TestStats))\n",
    "    suite.addTest(unittest.makeSuite(Boot_func_test))\n",
    "    suite.addTest(unittest.makeSuite(TestBoot))\n",
    "    runner=unittest.TextTestRunner()\n",
    "    print(runner.run(suite))\n",
    "my_suite()"
   ]
  },
  {
   "cell_type": "code",
   "execution_count": null,
   "metadata": {},
   "outputs": [],
   "source": []
  }
 ],
 "metadata": {
  "kernelspec": {
   "display_name": "Python 3",
   "language": "python",
   "name": "python3"
  },
  "language_info": {
   "codemirror_mode": {
    "name": "ipython",
    "version": 3
   },
   "file_extension": ".py",
   "mimetype": "text/x-python",
   "name": "python",
   "nbconvert_exporter": "python",
   "pygments_lexer": "ipython3",
   "version": "3.7.3"
  }
 },
 "nbformat": 4,
 "nbformat_minor": 2
}
