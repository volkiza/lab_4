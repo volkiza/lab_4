{
 "cells": [
  {
   "cell_type": "code",
   "execution_count": 1,
   "metadata": {},
   "outputs": [
    {
     "name": "stderr",
     "output_type": "stream",
     "text": [
      "test_mean (__main__.TestBoot) ... ok\n",
      "test_sd (__main__.TestBoot) ... ok\n",
      "test_se (__main__.TestBoot) ... "
     ]
    },
    {
     "name": "stdout",
     "output_type": "stream",
     "text": [
      "setupclass\n",
      "The variables are initialized\n",
      "Test mean\n",
      "The test is over\n",
      "The variables are initialized\n",
      "Test sd\n",
      "The test is over\n",
      "The variables are initialized\n",
      "Test stand_err\n",
      "The test is over\n",
      "teardownClass\n"
     ]
    },
    {
     "name": "stderr",
     "output_type": "stream",
     "text": [
      "ok\n",
      "\n",
      "----------------------------------------------------------------------\n",
      "Ran 3 tests in 0.005s\n",
      "\n",
      "OK\n"
     ]
    },
    {
     "data": {
      "text/plain": [
       "array([[330,  93,  10, 437, 418, 422, 335, 120],\n",
       "       [266, 336,  99, 155,  39,  50, 153, 171]])"
      ]
     },
     "execution_count": 1,
     "metadata": {},
     "output_type": "execute_result"
    }
   ],
   "source": [
    "import unittest\n",
    "import numpy as np\n",
    "\n",
    "from bootstrap import Bootstrap as st\n",
    "\n",
    "\n",
    "class TestBoot(unittest.TestCase):\n",
    "    @classmethod\n",
    "    def setUpClass(cls):\n",
    "        print('setupclass')\n",
    "    def setUp(self):\n",
    "        self.p1=np.array([166, 201, 458, 190, 445,  87, 385, 427, 387, 166, 474,  49, 430,\n",
    "       205,  54, 343, 413, 389,  20,  58, 191,  87, 463,  88, 389,  52,\n",
    "       102,   1, 102,  20])\n",
    "        self.p2=np.array([1,2,3,4,5,6,7,8,9,10])\n",
    "        self.p3=np.array([61, 26, 80, 82, 92, 21, 30, 68, 97, 42, 56,  8, 36, 35, 56,  9, 73,\n",
    "       69, 87, 68,  7,  8, 84, 71, 99, 80, 67, 51, 15, 25])\n",
    "        self.p4=np.array([314, 438, 478, 346, 213, 317, 456, 200,  20, 225, 253, 299, 171,\n",
    "       307, 226, 469,  72, 139, 171, 345,   1, 469, 434, 334,  45,  16,\n",
    "       415,  17, 421, 102, 112, 134, 295, 440, 394, 168, 355, 204, 122,\n",
    "       488, 355, 317, 288,  23, 270,  64, 368, 367, 478, 406,  65,  39,\n",
    "        46,  40, 147,  92,   6,  28, 484, 215])\n",
    "        self.p5=np.array([135,  61, 103,  73,  43,  11, 330, 294,  39,  65, 477, 130, 462,\n",
    "       488, 438])\n",
    "        self.b1=st(self.p1)\n",
    "        self.b2=st(self.p2)\n",
    "        self.b3=st(self.p3)\n",
    "        self.b4=st(self.p4)\n",
    "        self.b5=st(self.p5)\n",
    "        print(\"The variables are initialized\")\n",
    "    def test_mean(self):\n",
    "        print(\"Test mean\")\n",
    "        self.assertEqual(self.b1.mean(),228.0667)\n",
    "        self.assertEqual(self.b2.mean(),5.5000)\n",
    "        self.assertEqual(self.b3.mean(),53.4333)\n",
    "        self.assertEqual(self.b4.mean(),242.05)\n",
    "        self.assertEqual(self.b5.mean(),209.9333)\n",
    "    def test_sd(self):\n",
    "        print(\"Test sd\")\n",
    "        self.assertEqual(self.b1.sd(),164.1625)\n",
    "        self.assertEqual(self.b2.sd(),2.8723)\n",
    "        self.assertEqual(self.b3.sd(),28.8914)\n",
    "        self.assertEqual(self.b4.sd(),155.8683)\n",
    "        self.assertEqual(self.b5.sd(),176.5818)\n",
    "    def test_se(self):\n",
    "        print(\"Test stand_err\")\n",
    "        self.assertEqual(self.b1.se(),30.4842)\n",
    "        self.assertEqual(self.b2.se(),0.9574)\n",
    "        self.assertEqual(self.b3.se(),5.3650)\n",
    "        self.assertEqual(self.b4.se(),20.2923)\n",
    "        self.assertEqual(self.b5.se(),47.1935)\n",
    "    def tearDown(self):\n",
    "        print(\"The test is over\")\n",
    "    @classmethod\n",
    "    def tearDownClass(cls):\n",
    "        print('teardownClass')\n",
    "        \n",
    "unittest.main(argv=[''], verbosity=2, exit=False)\n"
   ]
  },
  {
   "cell_type": "code",
   "execution_count": null,
   "metadata": {},
   "outputs": [],
   "source": []
  }
 ],
 "metadata": {
  "kernelspec": {
   "display_name": "Python 3",
   "language": "python",
   "name": "python3"
  },
  "language_info": {
   "codemirror_mode": {
    "name": "ipython",
    "version": 3
   },
   "file_extension": ".py",
   "mimetype": "text/x-python",
   "name": "python",
   "nbconvert_exporter": "python",
   "pygments_lexer": "ipython3",
   "version": "3.7.3"
  }
 },
 "nbformat": 4,
 "nbformat_minor": 2
}
